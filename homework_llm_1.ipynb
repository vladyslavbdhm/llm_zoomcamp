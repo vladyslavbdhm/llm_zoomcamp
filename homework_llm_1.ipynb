{
 "cells": [
  {
   "cell_type": "code",
   "execution_count": 1,
   "id": "a01568af-087c-4dba-b29d-c245f911bea0",
   "metadata": {},
   "outputs": [],
   "source": [
    "import openai"
   ]
  },
  {
   "cell_type": "code",
   "execution_count": 2,
   "id": "dd97a344-e012-465a-a79d-c0efdc3c169c",
   "metadata": {},
   "outputs": [],
   "source": [
    "from openai import OpenAI"
   ]
  },
  {
   "cell_type": "code",
   "execution_count": 5,
   "id": "d0da0b54-0144-40ed-a2e3-d795a58304fa",
   "metadata": {},
   "outputs": [],
   "source": [
    "client = OpenAI()"
   ]
  },
  {
   "cell_type": "code",
   "execution_count": 6,
   "id": "9cde8a84-3d1c-461c-a084-c6f235c1ad04",
   "metadata": {},
   "outputs": [],
   "source": [
    "import os"
   ]
  },
  {
   "cell_type": "code",
   "execution_count": 10,
   "id": "fa6e0d36-22dc-4312-a6e7-d9ec49966a74",
   "metadata": {},
   "outputs": [],
   "source": [
    "response = client.chat.completions.create(\n",
    "    model='gpt-4o',\n",
    "    messages=[{\"role\": \"user\", \"content\":\"is it too late to join the course?\"}]\n",
    ")"
   ]
  },
  {
   "cell_type": "code",
   "execution_count": 13,
   "id": "1b6a66fe-06d2-4a1f-9a8b-b7301913ae22",
   "metadata": {},
   "outputs": [
    {
     "data": {
      "text/plain": [
       "\"It's hard to say without more context. The deadlines for joining a course can vary widely depending on the institution, the specific course, and the time of year. Here are a few steps you can take to find out if it's too late:\\n\\n1. **Contact the Institution**: Reach out directly to the educational institution offering the course. They can provide the most accurate information regarding registration deadlines and availability.\\n\\n2. **Check the Course Website**: If the course has a dedicated website or webpage, there may be information about enrollment deadlines, course start dates, and late registration policies.\\n\\n3. **Speak to the Instructor**: If you can find the contact details of the course instructor, they might be able to offer some flexibility or provide advice on what to do next.\\n\\n4. **Consider the Add/Drop Periods**: Many institutions have an add/drop period at the beginning of the term during which you can still join courses without penalty. Check if that period is still open.\\n\\n5. **Online Courses**: If the course is online, they often have rolling admissions or multiple start dates throughout the year.\\n\\nIf you provide more specifics about the course or institution, I may be able to offer more tailored advice.\""
      ]
     },
     "execution_count": 13,
     "metadata": {},
     "output_type": "execute_result"
    }
   ],
   "source": [
    "response.choices[0].message.content"
   ]
  }
 ],
 "metadata": {
  "kernelspec": {
   "display_name": "Python 3 (ipykernel)",
   "language": "python",
   "name": "python3"
  },
  "language_info": {
   "codemirror_mode": {
    "name": "ipython",
    "version": 3
   },
   "file_extension": ".py",
   "mimetype": "text/x-python",
   "name": "python",
   "nbconvert_exporter": "python",
   "pygments_lexer": "ipython3",
   "version": "3.10.13"
  }
 },
 "nbformat": 4,
 "nbformat_minor": 5
}
